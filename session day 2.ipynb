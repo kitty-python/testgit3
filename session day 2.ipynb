{
 "cells": [
  {
   "cell_type": "code",
   "execution_count": 1,
   "id": "678d5c68",
   "metadata": {},
   "outputs": [],
   "source": [
    "# body mass index(bmi)\n",
    "# input weight\n",
    "# height\n",
    "# weight\n",
    "# calculate bmi\n",
    "# print bmi \n"
   ]
  },
  {
   "cell_type": "code",
   "execution_count": null,
   "id": "419b7e5f",
   "metadata": {},
   "outputs": [
    {
     "name": "stdout",
     "output_type": "stream",
     "text": [
      "what is your height?65\n"
     ]
    }
   ],
   "source": [
    "\n",
    "height = input(\"what is your height?\")\n",
    "height = int(height)\n",
    "weight = input('what is your weight?')\n",
    "weight = int(weight)\n",
    "name   = input('what is your name?')\n",
    "# print(\"my name is\", name, \"and my bmi is\",bmi)"
   ]
  },
  {
   "cell_type": "code",
   "execution_count": null,
   "id": "1e3a302b",
   "metadata": {},
   "outputs": [],
   "source": [
    "bmi = weight/height**2\n",
    "bmi"
   ]
  },
  {
   "cell_type": "code",
   "execution_count": null,
   "id": "104db2b4",
   "metadata": {},
   "outputs": [],
   "source": [
    "print(\"my name is\", name, \"and my bmi is\", bmi)"
   ]
  },
  {
   "cell_type": "code",
   "execution_count": null,
   "id": "e1f78313",
   "metadata": {},
   "outputs": [],
   "source": [
    "import seaborn as sns\n",
    "import matplotlib.pyplot as plt\n",
    "sns.set_theme(style=\"ticks\", color_codes=true)\n",
    "\n",
    "titanic = sns.load_dataset(\"titanic\")\n",
    "sns.catplot(x=\"sex\",y=\"survived\", hue=\"class\",kind=\"bar\",data=titanic)\n",
    "plt.show "
   ]
  },
  {
   "cell_type": "code",
   "execution_count": null,
   "id": "268bc41d",
   "metadata": {},
   "outputs": [],
   "source": []
  }
 ],
 "metadata": {
  "kernelspec": {
   "display_name": "Python 3 (ipykernel)",
   "language": "python",
   "name": "python3"
  },
  "language_info": {
   "codemirror_mode": {
    "name": "ipython",
    "version": 3
   },
   "file_extension": ".py",
   "mimetype": "text/x-python",
   "name": "python",
   "nbconvert_exporter": "python",
   "pygments_lexer": "ipython3",
   "version": "3.11.5"
  }
 },
 "nbformat": 4,
 "nbformat_minor": 5
}
