{
 "cells": [
  {
   "cell_type": "markdown",
   "id": "01a77e8d",
   "metadata": {},
   "source": [
    "# numpy practice session"
   ]
  },
  {
   "cell_type": "code",
   "execution_count": 2,
   "id": "fcf8d920",
   "metadata": {},
   "outputs": [],
   "source": [
    "# import numpy\n",
    "import numpy as np"
   ]
  },
  {
   "cell_type": "markdown",
   "id": "5893e8e5",
   "metadata": {},
   "source": [
    "# creating an array using numpy"
   ]
  },
  {
   "cell_type": "code",
   "execution_count": 3,
   "id": "60a1bc0e",
   "metadata": {},
   "outputs": [
    {
     "data": {
      "text/plain": [
       "array(['burger', 'choco', 'smoothie'], dtype='<U8')"
      ]
     },
     "execution_count": 3,
     "metadata": {},
     "output_type": "execute_result"
    }
   ],
   "source": [
    "food = np.array([\"burger\",\"choco\",\"smoothie\"])\n",
    "food"
   ]
  },
  {
   "cell_type": "code",
   "execution_count": 4,
   "id": "d42ba795",
   "metadata": {},
   "outputs": [
    {
     "data": {
      "text/plain": [
       "array([5, 5, 5])"
      ]
     },
     "execution_count": 4,
     "metadata": {},
     "output_type": "execute_result"
    }
   ],
   "source": [
    "price = np.array([5,5,5])\n",
    "price"
   ]
  },
  {
   "cell_type": "code",
   "execution_count": 5,
   "id": "ea3ce46e",
   "metadata": {},
   "outputs": [
    {
     "data": {
      "text/plain": [
       "numpy.ndarray"
      ]
     },
     "execution_count": 5,
     "metadata": {},
     "output_type": "execute_result"
    }
   ],
   "source": [
    "type(price)"
   ]
  },
  {
   "cell_type": "code",
   "execution_count": 6,
   "id": "ad667ae7",
   "metadata": {},
   "outputs": [
    {
     "data": {
      "text/plain": [
       "3"
      ]
     },
     "execution_count": 6,
     "metadata": {},
     "output_type": "execute_result"
    }
   ],
   "source": [
    "len(food)"
   ]
  },
  {
   "cell_type": "code",
   "execution_count": 7,
   "id": "8a9377ac",
   "metadata": {},
   "outputs": [
    {
     "data": {
      "text/plain": [
       "array([5, 5, 5])"
      ]
     },
     "execution_count": 7,
     "metadata": {},
     "output_type": "execute_result"
    }
   ],
   "source": [
    "price[0:]"
   ]
  },
  {
   "cell_type": "code",
   "execution_count": 9,
   "id": "cc033acf",
   "metadata": {},
   "outputs": [
    {
     "data": {
      "text/plain": [
       "'choco'"
      ]
     },
     "execution_count": 9,
     "metadata": {},
     "output_type": "execute_result"
    }
   ],
   "source": [
    "food[1]"
   ]
  },
  {
   "cell_type": "code",
   "execution_count": 11,
   "id": "bcf6b340",
   "metadata": {},
   "outputs": [
    {
     "data": {
      "text/plain": [
       "5"
      ]
     },
     "execution_count": 11,
     "metadata": {},
     "output_type": "execute_result"
    }
   ],
   "source": [
    "price[2]"
   ]
  },
  {
   "cell_type": "code",
   "execution_count": 14,
   "id": "b1f514a4",
   "metadata": {},
   "outputs": [
    {
     "data": {
      "text/plain": [
       "5.0"
      ]
     },
     "execution_count": 14,
     "metadata": {},
     "output_type": "execute_result"
    }
   ],
   "source": [
    "\n",
    "price.mean()"
   ]
  },
  {
   "cell_type": "code",
   "execution_count": 15,
   "id": "e16805e8",
   "metadata": {},
   "outputs": [
    {
     "data": {
      "text/plain": [
       "array([0., 0., 0., 0.])"
      ]
     },
     "execution_count": 15,
     "metadata": {},
     "output_type": "execute_result"
    }
   ],
   "source": [
    "# 0000000\n",
    "np.zeros(4)"
   ]
  },
  {
   "cell_type": "code",
   "execution_count": 16,
   "id": "acde2985",
   "metadata": {},
   "outputs": [
    {
     "data": {
      "text/plain": [
       "array([1., 1., 1., 1.])"
      ]
     },
     "execution_count": 16,
     "metadata": {},
     "output_type": "execute_result"
    }
   ],
   "source": [
    "# 11111111\n",
    "np.ones(4)"
   ]
  },
  {
   "cell_type": "code",
   "execution_count": 23,
   "id": "1eb6d109",
   "metadata": {},
   "outputs": [
    {
     "data": {
      "text/plain": [
       "array([1.10148295e+118, 2.59583924e+201])"
      ]
     },
     "execution_count": 23,
     "metadata": {},
     "output_type": "execute_result"
    }
   ],
   "source": [
    "# empty\n",
    "np.empty(2)"
   ]
  },
  {
   "cell_type": "code",
   "execution_count": 24,
   "id": "6e387ca0",
   "metadata": {},
   "outputs": [
    {
     "data": {
      "text/plain": [
       "array([0, 1, 2, 3, 4, 5, 6, 7, 8, 9])"
      ]
     },
     "execution_count": 24,
     "metadata": {},
     "output_type": "execute_result"
    }
   ],
   "source": [
    "np.arange(10)"
   ]
  },
  {
   "cell_type": "code",
   "execution_count": 26,
   "id": "93b130c8",
   "metadata": {},
   "outputs": [
    {
     "data": {
      "text/plain": [
       "array([ 2,  3,  4,  5,  6,  7,  8,  9, 10, 11, 12, 13, 14, 15, 16, 17, 18,\n",
       "       19])"
      ]
     },
     "execution_count": 26,
     "metadata": {},
     "output_type": "execute_result"
    }
   ],
   "source": [
    "# specify\n",
    "np.arange(2,20)"
   ]
  },
  {
   "cell_type": "code",
   "execution_count": 27,
   "id": "61fdaed4",
   "metadata": {},
   "outputs": [
    {
     "data": {
      "text/plain": [
       "array([ 2,  4,  6,  8, 10, 12, 14, 16, 18])"
      ]
     },
     "execution_count": 27,
     "metadata": {},
     "output_type": "execute_result"
    }
   ],
   "source": [
    "# specificc interva1\n",
    "np.arange(2,20,2)     #2 ky faraq sy ayega"
   ]
  },
  {
   "cell_type": "code",
   "execution_count": 30,
   "id": "e0961d30",
   "metadata": {},
   "outputs": [
    {
     "data": {
      "text/plain": [
       "array([ 5, 10, 15, 20, 25, 30, 35, 40, 45, 50])"
      ]
     },
     "execution_count": 30,
     "metadata": {},
     "output_type": "execute_result"
    }
   ],
   "source": [
    "# tab1e 0f 5\n",
    "np.arange(5,55,5)     #5 ka tab1e cahye t0 5 m0re 1ikhna h0ga"
   ]
  },
  {
   "cell_type": "code",
   "execution_count": 31,
   "id": "3b9fbc5f",
   "metadata": {},
   "outputs": [
    {
     "data": {
      "text/plain": [
       "array([  1.,  12.,  23.,  34.,  45.,  56.,  67.,  78.,  89., 100.])"
      ]
     },
     "execution_count": 31,
     "metadata": {},
     "output_type": "execute_result"
    }
   ],
   "source": [
    "# 1ine space\n",
    "np.linspace(1,100, num=10)    #jitny ch0r key apk0 chayein wh is sy mi1ingy"
   ]
  },
  {
   "cell_type": "code",
   "execution_count": 37,
   "id": "cbf78532",
   "metadata": {},
   "outputs": [
    {
     "data": {
      "text/plain": [
       "array([ 1.  ,  3.25,  5.5 ,  7.75, 10.  ])"
      ]
     },
     "execution_count": 37,
     "metadata": {},
     "output_type": "execute_result"
    }
   ],
   "source": [
    "np.linspace(1,10, num=5)"
   ]
  },
  {
   "cell_type": "code",
   "execution_count": 40,
   "id": "1098fe42",
   "metadata": {},
   "outputs": [
    {
     "data": {
      "text/plain": [
       "array([1, 1, 1, 1, 1, 1, 1, 1, 1, 1, 1, 1, 1, 1, 1, 1, 1, 1, 1, 1, 1, 1,\n",
       "       1, 1, 1, 1, 1, 1, 1, 1, 1, 1, 1, 1, 1, 1, 1, 1, 1, 1, 1, 1, 1, 1,\n",
       "       1, 1, 1, 1, 1, 1], dtype=int64)"
      ]
     },
     "execution_count": 40,
     "metadata": {},
     "output_type": "execute_result"
    }
   ],
   "source": [
    "# specify y0ur data type\n",
    "np.ones(50,dtype=np.int64)"
   ]
  },
  {
   "cell_type": "code",
   "execution_count": 39,
   "id": "96202101",
   "metadata": {},
   "outputs": [
    {
     "data": {
      "text/plain": [
       "array([1., 1., 1., 1., 1.])"
      ]
     },
     "execution_count": 39,
     "metadata": {},
     "output_type": "execute_result"
    }
   ],
   "source": [
    "np.ones(5,dtype=np.float64)"
   ]
  },
  {
   "cell_type": "markdown",
   "id": "52e413bc",
   "metadata": {},
   "source": [
    "# Array functions"
   ]
  },
  {
   "cell_type": "code",
   "execution_count": 41,
   "id": "b7973a01",
   "metadata": {},
   "outputs": [
    {
     "data": {
      "text/plain": [
       "array([ 10. ,  20. ,  30. ,  40. , 560. , 670. ,  10.7,   6.2])"
      ]
     },
     "execution_count": 41,
     "metadata": {},
     "output_type": "execute_result"
    }
   ],
   "source": [
    "a = np.array([10,20,30,40,560,670,10.7,6.2])\n",
    "a"
   ]
  },
  {
   "cell_type": "code",
   "execution_count": 43,
   "id": "7c79f20e",
   "metadata": {},
   "outputs": [
    {
     "data": {
      "text/plain": [
       "array([  6.2,  10. ,  10.7,  20. ,  30. ,  40. , 560. , 670. ])"
      ]
     },
     "execution_count": 43,
     "metadata": {},
     "output_type": "execute_result"
    }
   ],
   "source": [
    "a.sort()\n",
    "a"
   ]
  },
  {
   "cell_type": "code",
   "execution_count": 44,
   "id": "9e79e82d",
   "metadata": {},
   "outputs": [
    {
     "data": {
      "text/plain": [
       "array([2.3, 3.3, 7.8, 5.6, 4.5, 6. ])"
      ]
     },
     "execution_count": 44,
     "metadata": {},
     "output_type": "execute_result"
    }
   ],
   "source": [
    "b = np.array([2.3,3.3,7.8,5.6,4.5,6.0])\n",
    "b"
   ]
  },
  {
   "cell_type": "code",
   "execution_count": 47,
   "id": "cc5ce0d2",
   "metadata": {},
   "outputs": [
    {
     "data": {
      "text/plain": [
       "array([  6.2,  10. ,  10.7,  20. ,  30. ,  40. , 560. , 670. ,   2.3,\n",
       "         3.3,   7.8,   5.6,   4.5,   6. ])"
      ]
     },
     "execution_count": 47,
     "metadata": {},
     "output_type": "execute_result"
    }
   ],
   "source": [
    "c= np.concatenate((a,b))   #d0n0 k0  mi1a kr 1ikna hyy s0\n",
    "c"
   ]
  },
  {
   "cell_type": "code",
   "execution_count": 48,
   "id": "807e76ad",
   "metadata": {},
   "outputs": [
    {
     "data": {
      "text/plain": [
       "array([  2.3,   3.3,   4.5,   5.6,   6. ,   6.2,   7.8,  10. ,  10.7,\n",
       "        20. ,  30. ,  40. , 560. , 670. ])"
      ]
     },
     "execution_count": 48,
     "metadata": {},
     "output_type": "execute_result"
    }
   ],
   "source": [
    "c.sort()\n",
    "c"
   ]
  },
  {
   "cell_type": "markdown",
   "id": "3e2fda9a",
   "metadata": {},
   "source": [
    "# 2-d Arrays"
   ]
  },
  {
   "cell_type": "code",
   "execution_count": 52,
   "id": "dbbe6196",
   "metadata": {},
   "outputs": [
    {
     "data": {
      "text/plain": [
       "array([[1, 2, 3, 4],\n",
       "       [6, 7, 8, 5]])"
      ]
     },
     "execution_count": 52,
     "metadata": {},
     "output_type": "execute_result"
    }
   ],
   "source": [
    "a = np.array([[1,2,3,4], [6,7,8,5]])\n",
    "a"
   ]
  },
  {
   "cell_type": "code",
   "execution_count": 59,
   "id": "ca1482d9",
   "metadata": {},
   "outputs": [
    {
     "data": {
      "text/plain": [
       "array([[3, 4, 7, 8],\n",
       "       [4, 5, 6, 7]])"
      ]
     },
     "execution_count": 59,
     "metadata": {},
     "output_type": "execute_result"
    }
   ],
   "source": [
    "b = np.array([[3,4,7,8],[4,5,6,7]])\n",
    "b"
   ]
  },
  {
   "cell_type": "code",
   "execution_count": 60,
   "id": "b2566372",
   "metadata": {},
   "outputs": [
    {
     "data": {
      "text/plain": [
       "array([[1, 2, 3, 4],\n",
       "       [6, 7, 8, 5],\n",
       "       [3, 4, 7, 8],\n",
       "       [4, 5, 6, 7]])"
      ]
     },
     "execution_count": 60,
     "metadata": {},
     "output_type": "execute_result"
    }
   ],
   "source": [
    "c = np.concatenate((a, b))     #dimensi0ns 0r interva1 same kr key 0utput aya wese t0 dif dimension key sat bhe h0skta yhy\n",
    "c"
   ]
  },
  {
   "cell_type": "code",
   "execution_count": 63,
   "id": "90553c00",
   "metadata": {},
   "outputs": [
    {
     "data": {
      "text/plain": [
       "array([[[1, 2, 3, 4],\n",
       "        [4, 5, 6, 7]],\n",
       "\n",
       "       [[0, 2, 7, 4],\n",
       "        [4, 5, 6, 7]],\n",
       "\n",
       "       [[4, 8, 7, 1],\n",
       "        [3, 5, 7, 9]]])"
      ]
     },
     "execution_count": 63,
     "metadata": {},
     "output_type": "execute_result"
    }
   ],
   "source": [
    "a = np.array([[[1,2,3,4],\n",
    "                        [4,5,6,7]],\n",
    "              \n",
    "                       [[0,2,7,4],\n",
    "                        [4,5,6,7]],\n",
    "              \n",
    "                       [[4,8,7,1],\n",
    "                        [3,5,7,9]]])\n",
    "                        \n",
    "a"
   ]
  },
  {
   "cell_type": "code",
   "execution_count": 65,
   "id": "5f5eecbf",
   "metadata": {},
   "outputs": [
    {
     "data": {
      "text/plain": [
       "3"
      ]
     },
     "execution_count": 65,
     "metadata": {},
     "output_type": "execute_result"
    }
   ],
   "source": [
    "# t0 find the n0 0f dimensi0ns \n",
    "a.ndim     #agr 2 d ziada dafa agaye , key sat t0 w0h 3  ban gati hy"
   ]
  },
  {
   "cell_type": "code",
   "execution_count": 68,
   "id": "84e8f48b",
   "metadata": {},
   "outputs": [
    {
     "data": {
      "text/plain": [
       "array([[5, 6, 7],\n",
       "       [8, 3, 4],\n",
       "       [4, 5, 6]])"
      ]
     },
     "execution_count": 68,
     "metadata": {},
     "output_type": "execute_result"
    }
   ],
   "source": [
    "b = np.array([[5,6,7,],\n",
    "             [8,3,4,],\n",
    "             [4,5,6,]])\n",
    "b"
   ]
  },
  {
   "cell_type": "code",
   "execution_count": 71,
   "id": "5ae3acfe",
   "metadata": {},
   "outputs": [
    {
     "data": {
      "text/plain": [
       "numpy.ndarray"
      ]
     },
     "execution_count": 71,
     "metadata": {},
     "output_type": "execute_result"
    }
   ],
   "source": [
    "type(b)"
   ]
  },
  {
   "cell_type": "code",
   "execution_count": 69,
   "id": "c36fc65f",
   "metadata": {
    "scrolled": true
   },
   "outputs": [
    {
     "data": {
      "text/plain": [
       "2"
      ]
     },
     "execution_count": 69,
     "metadata": {},
     "output_type": "execute_result"
    }
   ],
   "source": [
    "b.ndim"
   ]
  },
  {
   "cell_type": "code",
   "execution_count": 70,
   "id": "e7a76e7b",
   "metadata": {},
   "outputs": [
    {
     "data": {
      "text/plain": [
       "24"
      ]
     },
     "execution_count": 70,
     "metadata": {},
     "output_type": "execute_result"
    }
   ],
   "source": [
    "a.size"
   ]
  },
  {
   "cell_type": "code",
   "execution_count": 72,
   "id": "da5a5599",
   "metadata": {},
   "outputs": [
    {
     "data": {
      "text/plain": [
       "(3, 2, 4)"
      ]
     },
     "execution_count": 72,
     "metadata": {},
     "output_type": "execute_result"
    }
   ],
   "source": [
    "a.shape"
   ]
  },
  {
   "cell_type": "code",
   "execution_count": 78,
   "id": "69fc1dda",
   "metadata": {},
   "outputs": [
    {
     "data": {
      "text/plain": [
       "array([0, 1, 2, 3, 4, 5, 6, 7, 8])"
      ]
     },
     "execution_count": 78,
     "metadata": {},
     "output_type": "execute_result"
    }
   ],
   "source": [
    "a = np.arange(9)\n",
    "a"
   ]
  },
  {
   "cell_type": "code",
   "execution_count": 79,
   "id": "3c636f53",
   "metadata": {},
   "outputs": [
    {
     "data": {
      "text/plain": [
       "array([[0, 1, 2],\n",
       "       [3, 4, 5],\n",
       "       [6, 7, 8]])"
      ]
     },
     "execution_count": 79,
     "metadata": {},
     "output_type": "execute_result"
    }
   ],
   "source": [
    "b = a.reshape(3,3)\n",
    "b                   #3*3=9"
   ]
  },
  {
   "cell_type": "code",
   "execution_count": 80,
   "id": "cddb03ef",
   "metadata": {},
   "outputs": [
    {
     "data": {
      "text/plain": [
       "array([[0, 1, 2, 3, 4, 5, 6, 7, 8]])"
      ]
     },
     "execution_count": 80,
     "metadata": {},
     "output_type": "execute_result"
    }
   ],
   "source": [
    "np.reshape(a, newshape=(1,9), order=\"c\")"
   ]
  },
  {
   "cell_type": "code",
   "execution_count": 83,
   "id": "acc06cfb",
   "metadata": {},
   "outputs": [
    {
     "data": {
      "text/plain": [
       "array([1, 2, 3, 4, 5, 6, 7, 8, 9])"
      ]
     },
     "execution_count": 83,
     "metadata": {},
     "output_type": "execute_result"
    }
   ],
   "source": [
    "a = np.array([1,2,3,4,5,6,7,8,9])\n",
    "a"
   ]
  },
  {
   "cell_type": "markdown",
   "id": "b41c3e37",
   "metadata": {},
   "source": [
    "# convert 1-d to 2-d"
   ]
  },
  {
   "cell_type": "code",
   "execution_count": 84,
   "id": "e815358b",
   "metadata": {},
   "outputs": [
    {
     "data": {
      "text/plain": [
       "(9,)"
      ]
     },
     "execution_count": 84,
     "metadata": {},
     "output_type": "execute_result"
    }
   ],
   "source": [
    "a.shape"
   ]
  },
  {
   "cell_type": "code",
   "execution_count": 86,
   "id": "cd74afc1",
   "metadata": {},
   "outputs": [
    {
     "data": {
      "text/plain": [
       "array([[1, 2, 3, 4, 5, 6, 7, 8, 9]])"
      ]
     },
     "execution_count": 86,
     "metadata": {},
     "output_type": "execute_result"
    }
   ],
   "source": [
    "b = a[np.newaxis, :]\n",
    "b"
   ]
  },
  {
   "cell_type": "code",
   "execution_count": 87,
   "id": "86141393",
   "metadata": {},
   "outputs": [
    {
     "data": {
      "text/plain": [
       "(1, 9)"
      ]
     },
     "execution_count": 87,
     "metadata": {},
     "output_type": "execute_result"
    }
   ],
   "source": [
    "b.shape"
   ]
  },
  {
   "cell_type": "code",
   "execution_count": 88,
   "id": "b88e92a7",
   "metadata": {},
   "outputs": [
    {
     "data": {
      "text/plain": [
       "array([[1],\n",
       "       [2],\n",
       "       [3],\n",
       "       [4],\n",
       "       [5],\n",
       "       [6],\n",
       "       [7],\n",
       "       [8],\n",
       "       [9]])"
      ]
     },
     "execution_count": 88,
     "metadata": {},
     "output_type": "execute_result"
    }
   ],
   "source": [
    "b = a[:, np.newaxis]\n",
    "b"
   ]
  },
  {
   "cell_type": "code",
   "execution_count": 89,
   "id": "0c865812",
   "metadata": {},
   "outputs": [
    {
     "data": {
      "text/plain": [
       "array([1, 2, 3, 4, 5, 6, 7, 8, 9])"
      ]
     },
     "execution_count": 89,
     "metadata": {},
     "output_type": "execute_result"
    }
   ],
   "source": [
    "a"
   ]
  },
  {
   "cell_type": "code",
   "execution_count": 90,
   "id": "d452e762",
   "metadata": {},
   "outputs": [
    {
     "data": {
      "text/plain": [
       "array([3, 4, 5, 6])"
      ]
     },
     "execution_count": 90,
     "metadata": {},
     "output_type": "execute_result"
    }
   ],
   "source": [
    "a[2:6]"
   ]
  },
  {
   "cell_type": "code",
   "execution_count": 91,
   "id": "3a1387e8",
   "metadata": {},
   "outputs": [
    {
     "data": {
      "text/plain": [
       "array([ 6, 12, 18, 24, 30, 36, 42, 48, 54])"
      ]
     },
     "execution_count": 91,
     "metadata": {},
     "output_type": "execute_result"
    }
   ],
   "source": [
    "a*6"
   ]
  },
  {
   "cell_type": "code",
   "execution_count": 92,
   "id": "6927fa37",
   "metadata": {
    "scrolled": true
   },
   "outputs": [
    {
     "data": {
      "text/plain": [
       "array([ 7,  8,  9, 10, 11, 12, 13, 14, 15])"
      ]
     },
     "execution_count": 92,
     "metadata": {},
     "output_type": "execute_result"
    }
   ],
   "source": [
    "a+6"
   ]
  },
  {
   "cell_type": "code",
   "execution_count": 93,
   "id": "9ecfb5e1",
   "metadata": {},
   "outputs": [
    {
     "data": {
      "text/plain": [
       "45"
      ]
     },
     "execution_count": 93,
     "metadata": {},
     "output_type": "execute_result"
    }
   ],
   "source": [
    "a.sum()"
   ]
  },
  {
   "cell_type": "code",
   "execution_count": 94,
   "id": "4f3e65f2",
   "metadata": {},
   "outputs": [
    {
     "data": {
      "text/plain": [
       "5.0"
      ]
     },
     "execution_count": 94,
     "metadata": {},
     "output_type": "execute_result"
    }
   ],
   "source": [
    "a.mean()"
   ]
  },
  {
   "cell_type": "code",
   "execution_count": null,
   "id": "8017419d",
   "metadata": {},
   "outputs": [],
   "source": []
  },
  {
   "cell_type": "code",
   "execution_count": null,
   "id": "0ae7b095",
   "metadata": {},
   "outputs": [],
   "source": []
  },
  {
   "cell_type": "code",
   "execution_count": null,
   "id": "1448bf6c",
   "metadata": {},
   "outputs": [],
   "source": []
  },
  {
   "cell_type": "code",
   "execution_count": null,
   "id": "b297e903",
   "metadata": {},
   "outputs": [],
   "source": []
  },
  {
   "cell_type": "code",
   "execution_count": null,
   "id": "d1c69880",
   "metadata": {},
   "outputs": [],
   "source": []
  }
 ],
 "metadata": {
  "kernelspec": {
   "display_name": "Python 3 (ipykernel)",
   "language": "python",
   "name": "python3"
  },
  "language_info": {
   "codemirror_mode": {
    "name": "ipython",
    "version": 3
   },
   "file_extension": ".py",
   "mimetype": "text/x-python",
   "name": "python",
   "nbconvert_exporter": "python",
   "pygments_lexer": "ipython3",
   "version": "3.11.5"
  }
 },
 "nbformat": 4,
 "nbformat_minor": 5
}
