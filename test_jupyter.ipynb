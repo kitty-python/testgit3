{
 "cells": [
  {
   "cell_type": "markdown",
   "id": "16c6a6b2",
   "metadata": {},
   "source": [
    "# python program....1 "
   ]
  },
  {
   "cell_type": "code",
   "execution_count": 1,
   "id": "8ab76270",
   "metadata": {},
   "outputs": [
    {
     "name": "stdout",
     "output_type": "stream",
     "text": [
      "hello world\n",
      "I love hello kitty\n",
      "6\n",
      "gojo on top\n"
     ]
    }
   ],
   "source": [
    "print(\"hello world\")\n",
    "print(\"I love hello kitty\")\n",
    "print(2+4)\n",
    "print(\"gojo on top\")\n"
   ]
  },
  {
   "cell_type": "markdown",
   "id": "a701c4ef",
   "metadata": {},
   "source": [
    "# python operators....2"
   ]
  },
  {
   "cell_type": "code",
   "execution_count": 2,
   "id": "1790df7c",
   "metadata": {},
   "outputs": [
    {
     "name": "stdout",
     "output_type": "stream",
     "text": [
      "5\n",
      "-1\n",
      "6\n",
      "0.6666666666666666\n",
      "3.0\n",
      "3\n",
      "3\n",
      "16\n",
      "-20\n",
      "14.5\n"
     ]
    }
   ],
   "source": [
    "print(2+3)\n",
    "print(2-3)\n",
    "print(2*3)\n",
    "print(2/3)\n",
    "print(6/2)  #quotient\n",
    "print(6//2) #quotient w\\o .0 or decimal\n",
    "print(8%5)  #remainder\n",
    "print(2**4) #raise to power\n",
    "print(4**3+4-44*2)\n",
    "print(2/4-5*6+44)"
   ]
  },
  {
   "cell_type": "markdown",
   "id": "149d5649",
   "metadata": {},
   "source": [
    "# python strings....3"
   ]
  },
  {
   "cell_type": "code",
   "execution_count": 3,
   "id": "337c5eba",
   "metadata": {
    "scrolled": true
   },
   "outputs": [
    {
     "name": "stdout",
     "output_type": "stream",
     "text": [
      "hi kitty\n",
      "hi kitty\n",
      "hi kitty\n",
      "hi kitty\n",
      "\"\"hi kitty\"\"\n",
      "what's up\n",
      "hi kitty    ?\n",
      "   hi kitty   ?\n"
     ]
    }
   ],
   "source": [
    "print(\"hi kitty\")\n",
    "print('hi kitty')\n",
    "print('''hi kitty''')\n",
    "print(\"\"\"hi kitty\"\"\")\n",
    "print('\"\"hi kitty\"\"')  #wrong we don't do that \n",
    "print(\"what's up\")\n",
    "print(\"hi kitty    ?\")\n",
    "print(\"   hi kitty   ?\")"
   ]
  },
  {
   "cell_type": "markdown",
   "id": "85fdb2df",
   "metadata": {},
   "source": [
    "# python comments....4\n",
    "to enable comments you press ctrl + / and something like this will  appear #"
   ]
  },
  {
   "cell_type": "code",
   "execution_count": 4,
   "id": "1a3ddc4e",
   "metadata": {},
   "outputs": [],
   "source": [
    "#you use these basically when you need to write key points \n",
    "#you can also use them to yap abt stuff for all i care\n",
    "#they won't show on the terminal"
   ]
  },
  {
   "cell_type": "markdown",
   "id": "0f614c26",
   "metadata": {},
   "source": [
    "# python variabels....5"
   ]
  },
  {
   "cell_type": "code",
   "execution_count": 5,
   "id": "3c0f1f33",
   "metadata": {},
   "outputs": [
    {
     "name": "stdout",
     "output_type": "stream",
     "text": [
      "hi kitty\n",
      "bye kitty\n",
      "4\n",
      "5\n",
      "6\n",
      "12\n",
      "<class 'int'>\n",
      "<class 'str'>\n",
      "3\n",
      "<class 'int'>\n",
      "pens\n",
      "<class 'str'>\n"
     ]
    }
   ],
   "source": [
    "y = \"hi kitty\"\n",
    "print(y)\n",
    "x = \"bye kitty\"\n",
    "print(x)\n",
    "y = 4 \n",
    "print(y)\n",
    "x = 5 \n",
    "print(x)\n",
    "# ..............................................................................................................................\n",
    "print(x+1)\n",
    "print(y+8)\n",
    "#...............................................................................................................................\n",
    "#now t find the class of a certain text we use type\n",
    "x = 6 \n",
    "type(x)\n",
    "print(type(x))\n",
    "#see------it says class intiger\n",
    "y = \"hi kitty\"\n",
    "type(y)\n",
    "print(type(y)) \n",
    "# it says class string because '' these are called string and the text is in these strings\n",
    "#...............................................................................................................................\n",
    "fruit_basket = 3\n",
    "print(fruit_basket)\n",
    "print(type(fruit_basket))\n",
    "pink_bag = \"pens\"\n",
    "print(pink_bag)\n",
    "print(type(pink_bag))"
   ]
  },
  {
   "cell_type": "markdown",
   "id": "07272c25",
   "metadata": {},
   "source": [
    "# python input variables....6"
   ]
  },
  {
   "cell_type": "code",
   "execution_count": 6,
   "id": "b7c72228",
   "metadata": {},
   "outputs": [
    {
     "name": "stdout",
     "output_type": "stream",
     "text": [
      "peaches\n",
      "what is your favourite fruit  ?peaches\n",
      "peaches\n",
      "what is your name  ?kitty\n",
      "how have you been  ?nice\n",
      "kitty nice\n",
      "what is your name  ?kitty\n",
      "whats your favourite anime  ?jjk\n",
      "Hello!! kitty jjk\n",
      "what is your age  ?18\n",
      "kitty 18 wow you are stil so young!!\n"
     ]
    }
   ],
   "source": [
    "fruit_basket = \"peaches\"\n",
    "print(fruit_basket)\n",
    "#...............................................................................................................................\n",
    "#input function no 1\n",
    "fruit_basket = input('what is your favourite fruit  ?')\n",
    "print(fruit_basket)\n",
    "#...............................................................................................................................\n",
    "#input function no 2\n",
    "name = input(\"what is your name  ?\")\n",
    "wheresabout = input(\"how have you been  ?\")\n",
    "print(name , wheresabout)\n",
    "#...............................................................................................................................\n",
    "#input function no 3\n",
    "name = input(\"what is your name  ?\")\n",
    "question = input(\"whats your favourite anime  ?\")\n",
    "greetings = 'Hello!!'\n",
    "print(greetings , name , question)\n",
    "#...............................................................................................................................\n",
    "#input function no 4\n",
    "name = 'kitty'\n",
    "age = input('what is your age  ?')\n",
    "print(name, age, \"wow you are stil so young!!\")\n"
   ]
  },
  {
   "cell_type": "markdown",
   "id": "25283d2f",
   "metadata": {},
   "source": [
    "# python logical operations....7\n",
    "they are either true / fase , yes/no , 0 / 1\n",
    "equal to                 = ==\n",
    "not equal to             = !=\n",
    "lesser than              = <\n",
    "greater than             = >\n",
    "less than equal to       = <=\n",
    "greater than equal to    = >="
   ]
  },
  {
   "cell_type": "code",
   "execution_count": 7,
   "id": "316a8f9f",
   "metadata": {},
   "outputs": [
    {
     "name": "stdout",
     "output_type": "stream",
     "text": [
      "True\n",
      "False\n",
      "False\n",
      "True\n",
      "True\n",
      "False\n",
      "False\n",
      "True\n",
      "True\n",
      "True\n",
      "True\n",
      "False\n",
      "False\n",
      "True\n",
      "False\n",
      "True\n",
      "what is ari's age   ?5\n",
      "True\n"
     ]
    }
   ],
   "source": [
    "#4 is equal to 4------but how do you tell this to python\n",
    "print(4==4) #true\n",
    "print(4!=4)\n",
    "print(4==3)\n",
    "print(4!=3)\n",
    "print(4<6)\n",
    "print(4>6)\n",
    "print(4<3)\n",
    "print(4>3)\n",
    "print(4<=4)\n",
    "print(4>=4)\n",
    "print(4<=5)\n",
    "print(4>=5)\n",
    "print(4<=3)\n",
    "print(6>=5)\n",
    "#...............................................................................................................................\n",
    "#applications of logical operations\n",
    "hans_age=5\n",
    "ari_age= 6\n",
    "print(hans_age==ari_age)\n",
    "print(hans_age!=ari_age)\n",
    "\n",
    "hans_age= 5\n",
    "# ari_age=input(\"what is ari's age\")\n",
    "# print(hans_age==ari_age)  #hmm thats weird why false , is it because its not an integer and the input is string \n",
    "ari_age=input(\"what is ari's age   ?\")\n",
    "ari_age= int(ari_age)\n",
    "print(hans_age==ari_age) #true   :)\n",
    "  \n"
   ]
  },
  {
   "cell_type": "markdown",
   "id": "985d6464",
   "metadata": {},
   "source": [
    "# python conversion.....8"
   ]
  },
  {
   "cell_type": "code",
   "execution_count": 8,
   "id": "49a9b915",
   "metadata": {},
   "outputs": [
    {
     "name": "stdout",
     "output_type": "stream",
     "text": [
      "<class 'int'>\n",
      "<class 'str'>\n",
      "<class 'float'>\n",
      "17.6\n",
      "<class 'float'>\n",
      "17.6 <class 'float'>\n",
      "what is your age  ?12\n",
      "12\n",
      "<class 'int'>\n",
      "what is your age  ?12\n",
      "12.0\n",
      "<class 'float'>\n",
      "what is your age  ?12\n",
      "12\n",
      "<class 'str'>\n"
     ]
    }
   ],
   "source": [
    "# 4    [numbers]   ===== integer class int\n",
    "#'hi'  [text]      ===== string  class str\n",
    "# 4.2  [decimals]  ===== float   class float\n",
    "\n",
    "x=4\n",
    "y=\"hi\"\n",
    "z=4.4\n",
    "\n",
    "print(type(x))\n",
    "print(type(y))\n",
    "print(type(z))\n",
    "\n",
    "#simplicit conditions\n",
    "x=x*z\n",
    "print(x)\n",
    "print(type(x))\n",
    "print(x,(type(x)))\n",
    "\n",
    "#explicit conditions \n",
    "\n",
    "#integers\n",
    "\n",
    "age  = input('what is your age  ?')\n",
    "age  = int(age)    #w/0 int your class name will always be string becuase the input u gave is string\n",
    "print(age)\n",
    "print(type(age))  \n",
    "\n",
    "#floats\n",
    "\n",
    "age = input('what is your age  ?')\n",
    "age = float(age)  #basically the output of classes depends on what class u write in the input\n",
    "print(age)\n",
    "print(type(age))\n",
    "\n",
    "#strings\n",
    "\n",
    "age = input('what is your age  ?')\n",
    "age = str(age)    #see my friend it shows str\n",
    "print(age)\n",
    "print(type(age))\n",
    "\n"
   ]
  },
  {
   "cell_type": "markdown",
   "id": "1aa7950e",
   "metadata": {},
   "source": [
    "# python if, else, elif.....9"
   ]
  },
  {
   "cell_type": "code",
   "execution_count": 9,
   "id": "a3d85706",
   "metadata": {},
   "outputs": [
    {
     "name": "stdout",
     "output_type": "stream",
     "text": [
      "hans and ari are the same age\n",
      "hans is older than ari\n",
      "ari is older than hans\n",
      "hans is older than ari\n"
     ]
    }
   ],
   "source": [
    "hans_age= 5\n",
    "ari_age = 5\n",
    "if    hans_age==ari_age:\n",
    "    print(\"hans and ari are the same age\")\n",
    "elif  hans_age>ari_age:\n",
    "    print(\"hans is older than ari\")\n",
    "elif   hans_age<ari_age:\n",
    "    print(\"ari is older than hans\")\n",
    "else:\n",
    "    print(\"hans and ari are not the same age\")\n",
    "    \n",
    "    \n",
    "hans_age= 6\n",
    "ari_age = 5\n",
    "if    hans_age==ari_age:\n",
    "    print(\"hans and ari are the same age\")\n",
    "elif  hans_age>ari_age:\n",
    "    print(\"hans is older than ari\")\n",
    "elif   hans_age<ari_age:\n",
    "    print(\"ari is older than hans\")\n",
    "else:\n",
    "    print(\"hans and ari are not the same age\")\n",
    "    \n",
    "    \n",
    "    \n",
    "    \n",
    "hans_age= 4\n",
    "ari_age = 5\n",
    "if    hans_age==ari_age:\n",
    "    print(\"hans and ari are the same age\")\n",
    "elif  hans_age>ari_age:\n",
    "    print(\"hans is older than ari\")\n",
    "elif   hans_age<ari_age:\n",
    "    print(\"ari is older than hans\")\n",
    "else:\n",
    "    print(\"hans and ari are not the same age\")  \n",
    "    \n",
    "    \n",
    "hans_age= 7\n",
    "ari_age = 5\n",
    "if    hans_age==ari_age:\n",
    "    print(\"hans and ari are the same age\")\n",
    "elif  hans_age>ari_age:\n",
    "    print(\"hans is older than ari\")\n",
    "elif   hans_age<ari_age:\n",
    "    print(\"ari is older than hans\")\n",
    "else:\n",
    "    print(\"hans and ari are not the same age\")  #it can also be this\n"
   ]
  },
  {
   "cell_type": "markdown",
   "id": "ab098bf1",
   "metadata": {},
   "source": [
    "# python functions.....10"
   ]
  },
  {
   "cell_type": "code",
   "execution_count": 28,
   "id": "6fe1d6c6",
   "metadata": {},
   "outputs": [],
   "source": [
    "def school_calculator(age):\n",
    "    if   age==5:\n",
    "        print(\"can go to school\")\n",
    "    elif age>5:\n",
    "        print(\"send him to a higher grade\")\n",
    "    elif age<5:\n",
    "        print(\"may be kg would be better\")\n",
    "    else:\n",
    "        print(\"he is still a baby\")"
   ]
  },
  {
   "cell_type": "markdown",
   "id": "227cd831",
   "metadata": {},
   "source": [
    "# python array..........11"
   ]
  },
  {
   "cell_type": "code",
   "execution_count": 21,
   "id": "c3a4b13b",
   "metadata": {},
   "outputs": [
    {
     "name": "stdout",
     "output_type": "stream",
     "text": [
      "fri\n",
      "sun\n"
     ]
    }
   ],
   "source": [
    "days = ['mon', 'tue', 'wed', 'thu', 'fri', 'sat', 'sun']\n",
    "for d in days:\n",
    "    if (d==\"fri\"): break\n",
    "print(d)\n",
    "        \n",
    "        \n",
    "days = ['mon', 'tue', 'wed', 'thu', 'fri', 'sat', 'sun']\n",
    "for d in days:\n",
    "    if (d==\"fri\"): continue\n",
    "print(d)"
   ]
  },
  {
   "cell_type": "markdown",
   "id": "b7c260df",
   "metadata": {},
   "source": [
    "# python libraries......12"
   ]
  },
  {
   "cell_type": "code",
   "execution_count": 26,
   "id": "8c866ee0",
   "metadata": {},
   "outputs": [
    {
     "name": "stdout",
     "output_type": "stream",
     "text": [
      "the value of pi is 3.141592653589793\n",
      "243.33333333333334\n"
     ]
    }
   ],
   "source": [
    "import math\n",
    "print('the value of pi is', math.pi)\n",
    "\n",
    "import statistics\n",
    "x=[240,40,230,70,120,760]\n",
    "print(statistics.mean(x))"
   ]
  },
  {
   "cell_type": "markdown",
   "id": "d77ebd74",
   "metadata": {},
   "source": [
    "# python trouble shooting.....13"
   ]
  },
  {
   "cell_type": "code",
   "execution_count": null,
   "id": "5a0dfe5b",
   "metadata": {},
   "outputs": [],
   "source": [
    "#this basically means to solve the problems that may occur during coding \n",
    "# print(hi world)-------(\"hi world\")\n",
    "# print(hi nice)--------(\"hi ,nice\")"
   ]
  }
 ],
 "metadata": {
  "kernelspec": {
   "display_name": "Python 3 (ipykernel)",
   "language": "python",
   "name": "python3"
  },
  "language_info": {
   "codemirror_mode": {
    "name": "ipython",
    "version": 3
   },
   "file_extension": ".py",
   "mimetype": "text/x-python",
   "name": "python",
   "nbconvert_exporter": "python",
   "pygments_lexer": "ipython3",
   "version": "3.11.5"
  }
 },
 "nbformat": 4,
 "nbformat_minor": 5
}
